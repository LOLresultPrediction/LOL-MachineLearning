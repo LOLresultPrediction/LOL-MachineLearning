{
 "cells": [
  {
   "cell_type": "code",
   "execution_count": 25,
   "metadata": {},
   "outputs": [],
   "source": [
    "import pandas as pd\n",
    "from sklearn.model_selection import train_test_split\n",
    "import numpy as np\n",
    "from sklearn.ensemble import RandomForestClassifier\n",
    "from sklearn.ensemble import ExtraTreesClassifier\n",
    "from lightgbm import LGBMClassifier\n",
    "from sklearn.metrics import accuracy_score # 정확도 함수\n",
    "from catboost import CatBoostClassifier\n",
    "from sklearn.metrics import f1_score\n",
    "from sklearn.metrics import confusion_matrix\n",
    "import matplotlib.pyplot as plt\n",
    "import seaborn as sns\n",
    "from sklearn.model_selection import KFold\n",
    "from sklearn.model_selection import cross_val_score\n",
    "import csv\n",
    "from sklearn.metrics import roc_auc_score\n",
    "from datetime import datetime\n",
    "import sys\n",
    "import os\n"
   ]
  },
  {
   "cell_type": "code",
   "execution_count": 26,
   "metadata": {},
   "outputs": [],
   "source": [
    "tier = 'GRANMASTER'\n",
    "min = '15'\n",
    "df = pd.read_csv(f'../Dataset/perMinuteDataset/15min/GRANDMASTER.csv')"
   ]
  },
  {
   "cell_type": "code",
   "execution_count": 27,
   "metadata": {},
   "outputs": [],
   "source": [
    "global win_df, lose_df\n",
    "win_df = df[['Diff_FirstBLOOD', 'Diff_FirstDRAGON',\n",
    "       'Diff_FirstHERALD', 'Diff_Firsttower', 'dragonType', 'WIN_invadeKill', 'WIN_invadeDeath','WIN_controlWARDPlaced', \n",
    "       'WIN_Kill_top', 'WIN_Kill_jgl', 'WIN_Kill_mid', 'WIN_Kill_ad', 'WIN_Kill_sup',\n",
    "       'WIN_Death_top', 'WIN_Death_jgl', 'WIN_Death_mid', 'WIN_Death_ad', 'WIN_Death_sup', \n",
    "       'WIN_Asisst_top', 'WIN_Asisst_jgl', 'WIN_Asisst_mid', 'WIN_Asisst_ad', 'WIN_Asisst_sup',\n",
    "       'WIN_LV_top', 'WIN_LV_jgl', 'WIN_LV_mid', 'WIN_LV_ad', 'WIN_LV_sup',\n",
    "       'WIN_CS_top', 'WIN_CS_jgl', 'WIN_CS_mid', 'WIN_CS_ad', 'WIN_CS_sup',\n",
    "       'WIN_jglCS_top', 'WIN_jglCS_jgl', 'WIN_jglCS_mid', 'WIN_jglCS_ad', 'WIN_jglCS_sup',\n",
    "       'WIN_GOLD_top', 'WIN_GOLD_jgl', 'WIN_GOLD_mid', 'WIN_GOLD_ad', 'WIN_GOLD_sup',\n",
    "       'WIN_WARDkill', 'WIN_Inhibitor','WIN_TOWERkill', 'WIN_WARDplaced']]\n",
    "lose_df = df[['Diff_FirstBLOOD', 'Diff_FirstDRAGON',\n",
    "       'Diff_FirstHERALD', 'Diff_Firsttower', 'dragonType',\n",
    "       'LOSE_invadeDeath', 'LOSE_invadeKill',\n",
    "       'LOSE_controlWARDPlaced',\n",
    "       'LOSE_Kill_top', 'LOSE_Kill_jgl', 'LOSE_Kill_mid', 'LOSE_Kill_ad', 'LOSE_Kill_sup',\n",
    "       'LOSE_Death_top', 'LOSE_Death_jgl',\n",
    "       'LOSE_Death_mid', 'LOSE_Death_ad', 'LOSE_Death_sup',\n",
    "       'LOSE_Asisst_top', 'LOSE_Asisst_jgl', 'LOSE_Asisst_mid',\n",
    "       'LOSE_Asisst_ad', 'LOSE_Asisst_sup',\n",
    "       'LOSE_LV_top', 'LOSE_LV_jgl',\n",
    "       'LOSE_LV_mid', 'LOSE_LV_ad', 'LOSE_LV_sup',\n",
    "       'LOSE_CS_top', 'LOSE_CS_jgl',\n",
    "       'LOSE_CS_mid', 'LOSE_CS_ad', 'LOSE_CS_sup',\n",
    "       'LOSE_jglCS_top', 'LOSE_jglCS_jgl', 'LOSE_jglCS_mid', 'LOSE_jglCS_ad', 'LOSE_jglCS_sup',\n",
    "       'LOSE_GOLD_top', 'LOSE_GOLD_jgl',\n",
    "       'LOSE_GOLD_mid', 'LOSE_GOLD_ad', 'LOSE_GOLD_sup',\n",
    "       'LOSE_WARDkill', 'LOSE_Inhibitor',\n",
    "       'LOSE_TOWERkill', 'LOSE_WARDplaced']]\n",
    "colName = 'WIN'\n",
    "win_df = win_df.rename(columns={f'{colName}_invadeKill': 'invadeKill', f'{colName}_invadeDeath': 'invadeDeath', \n",
    "                                                  f'{colName}_controlWARDPlaced': 'controlWARDPlaced',\n",
    "                                                  f'{colName}_Kill_top': 'Kill_top',f'{colName}_Kill_jgl': 'Kill_jgl',f'{colName}_Kill_mid': 'Kill_mid',f'{colName}_Kill_ad': 'Kill_ad', f'{colName}_Kill_sup': 'Kill_sup',\n",
    "                                                  f'{colName}_Death_top': 'Death_top',f'{colName}_Death_jgl': 'Death_jgl',f'{colName}_Death_mid': 'Death_mid',f'{colName}_Death_ad': 'Death_ad',f'{colName}_Death_sup': 'Death_sup',\n",
    "                                                  f'{colName}_Asisst_top': 'Assist_top',f'{colName}_Asisst_jgl': 'Assist_jgl',f'{colName}_Asisst_mid': 'Assist_mid',f'{colName}_Asisst_ad': 'Assist_ad',f'{colName}_Asisst_sup': 'Assist_sup',\n",
    "                                                  f'{colName}_LV_top': 'LV_top',f'{colName}_LV_jgl': 'LV_jgl',f'{colName}_LV_mid': 'LV_mid',f'{colName}_LV_ad': 'LV_ad',f'{colName}_LV_sup': 'LV_sup',\n",
    "                                                  f'{colName}_CS_top': 'CS_top',f'{colName}_CS_jgl': 'CS_jgl',f'{colName}_CS_mid': 'CS_mid',f'{colName}_CS_ad': 'CS_ad',f'{colName}_CS_sup': 'CS_sup',\n",
    "                                                  f'{colName}_jglCS_top': 'jglCS_top',f'{colName}_jglCS_jgl': 'jglCS_jgl',f'{colName}_jglCS_mid': 'jglCS_mid',f'{colName}_jglCS_ad': 'jglCS_ad',f'{colName}_jglCS_sup': 'jglCS_sup',\n",
    "                                                  f'{colName}_GOLD_top': 'GOLD_top',f'{colName}_GOLD_jgl': 'GOLD_jgl',f'{colName}_GOLD_mid': 'GOLD_mid',f'{colName}_GOLD_ad': 'GOLD_ad',f'{colName}_GOLD_sup': 'GOLD_sup',\n",
    "                                                  f'{colName}_WARDkill': 'WARDkill',f'{colName}_Inhibitor': 'Inhibitor',f'{colName}_TOWERkill': 'TOWERkill',f'{colName}_WARDplaced': 'WARDplaced'})\n",
    "\n",
    "colName = 'LOSE'\n",
    "lose_df = lose_df.rename(columns={f'{colName}_invadeKill': 'invadeKill', f'{colName}_invadeDeath': 'invadeDeath', \n",
    "                                                  f'{colName}_controlWARDPlaced': 'controlWARDPlaced',\n",
    "                                                  f'{colName}_Kill_top': 'Kill_top',f'{colName}_Kill_jgl': 'Kill_jgl',f'{colName}_Kill_mid': 'Kill_mid',f'{colName}_Kill_ad': 'Kill_ad', f'{colName}_Kill_sup': 'Kill_sup',\n",
    "                                                  f'{colName}_Death_top': 'Death_top',f'{colName}_Death_jgl': 'Death_jgl',f'{colName}_Death_mid': 'Death_mid',f'{colName}_Death_ad': 'Death_ad',f'{colName}_Death_sup': 'Death_sup',\n",
    "                                                  f'{colName}_Asisst_top': 'Assist_top',f'{colName}_Asisst_jgl': 'Assist_jgl',f'{colName}_Asisst_mid': 'Assist_mid',f'{colName}_Asisst_ad': 'Assist_ad',f'{colName}_Asisst_sup': 'Assist_sup',\n",
    "                                                  f'{colName}_LV_top': 'LV_top',f'{colName}_LV_jgl': 'LV_jgl',f'{colName}_LV_mid': 'LV_mid',f'{colName}_LV_ad': 'LV_ad',f'{colName}_LV_sup': 'LV_sup',\n",
    "                                                  f'{colName}_CS_top': 'CS_top',f'{colName}_CS_jgl': 'CS_jgl',f'{colName}_CS_mid': 'CS_mid',f'{colName}_CS_ad': 'CS_ad',f'{colName}_CS_sup': 'CS_sup',\n",
    "                                                  f'{colName}_jglCS_top': 'jglCS_top',f'{colName}_jglCS_jgl': 'jglCS_jgl',f'{colName}_jglCS_mid': 'jglCS_mid',f'{colName}_jglCS_ad': 'jglCS_ad',f'{colName}_jglCS_sup': 'jglCS_sup',\n",
    "                                                  f'{colName}_GOLD_top': 'GOLD_top',f'{colName}_GOLD_jgl': 'GOLD_jgl',f'{colName}_GOLD_mid': 'GOLD_mid',f'{colName}_GOLD_ad': 'GOLD_ad',f'{colName}_GOLD_sup': 'GOLD_sup',\n",
    "                                                  f'{colName}_WARDkill': 'WARDkill',f'{colName}_Inhibitor': 'Inhibitor',f'{colName}_TOWERkill': 'TOWERkill',f'{colName}_WARDplaced': 'WARDplaced'})\n",
    "# win_df['result'] = 1\n",
    "# lose_df['result'] = -1\n",
    "# data = pd.concat([win_df, lose_df], axis=0, ignore_index=True)"
   ]
  },
  {
   "cell_type": "code",
   "execution_count": 28,
   "metadata": {},
   "outputs": [],
   "source": [
    "def mergeCol(colName):\n",
    "    global win_df, lose_df\n",
    "    win_df[colName] = (win_df[f'{colName}_ad']+win_df[f'{colName}_top']+win_df[f'{colName}_jgl']+win_df[f'{colName}_mid']+win_df[f'{colName}_sup'])\n",
    "    lose_df[colName] = (lose_df[f'{colName}_ad']+lose_df[f'{colName}_top']+lose_df[f'{colName}_jgl']+lose_df[f'{colName}_mid']+lose_df[f'{colName}_sup'])\n",
    "    win_df= win_df.drop([f'{colName}_ad', f'{colName}_top', f'{colName}_jgl', f'{colName}_mid', f'{colName}_sup'],axis=1)\n",
    "    lose_df= lose_df.drop([f'{colName}_ad', f'{colName}_top', f'{colName}_jgl', f'{colName}_mid', f'{colName}_sup'],axis=1)\n",
    "    return win_df, lose_df\n",
    "\n",
    "win_df, lose_df = mergeCol('LV')\n",
    "win_df, lose_df = mergeCol('Kill')\n",
    "win_df, lose_df = mergeCol('Death')\n",
    "win_df, lose_df = mergeCol('CS')\n",
    "\n",
    "win_df['LV'] = win_df['LV']-lose_df['LV']\n",
    "lose_df['LV'] = win_df['LV']*-1\n",
    "win_df['Kill'] = win_df['Kill'] - lose_df['Kill'] \n",
    "lose_df['Kill'] = win_df['Kill']*-1\n",
    "# win_df['Death'] = win_df['Death'] - lose_df['Death'] \n",
    "# lose_df['Death'] = win_df['Death']*-1"
   ]
  },
  {
   "cell_type": "code",
   "execution_count": 29,
   "metadata": {},
   "outputs": [],
   "source": [
    "# plt.figure(figsize=(30, 20))  # 그림 크기 설정 (선택 사항)\n",
    "# sns.lineplot(x=win_df.index, y='Kill', data=win_df)\n",
    "# # x축 레이블 및 그래프 제목 추가 (선택 사항)\n",
    "# plt.xlabel('Date')\n",
    "# plt.ylabel('Value')\n",
    "# plt.title('Time Series Data Visualization')\n",
    "\n",
    "# # 그래프 표시\n",
    "# plt.show()"
   ]
  },
  {
   "cell_type": "code",
   "execution_count": 30,
   "metadata": {},
   "outputs": [],
   "source": [
    "win_df['result'] = 1\n",
    "lose_df['result'] = -1\n",
    "data = pd.concat([win_df, lose_df], axis=0, ignore_index=True)"
   ]
  },
  {
   "cell_type": "code",
   "execution_count": 31,
   "metadata": {},
   "outputs": [
    {
     "name": "stdout",
     "output_type": "stream",
     "text": [
      "32\n"
     ]
    }
   ],
   "source": [
    "colCnt = data.shape[1]\n",
    "print(colCnt)\n",
    "X = data.iloc[:, :colCnt-1]\n",
    "y = data.iloc[:, colCnt-1:]"
   ]
  },
  {
   "cell_type": "code",
   "execution_count": 32,
   "metadata": {},
   "outputs": [],
   "source": [
    "rf = RandomForestClassifier(max_features = 'sqrt', max_leaf_nodes=100, random_state = 10)\n",
    "lgbm = LGBMClassifier(max_depth=12, min_child_samples=20, num_leaves=20, verbosity=0, random_state=10)\n",
    "cat = CatBoostClassifier(l2_leaf_reg=15, depth=6, random_state=10, verbose=0)\n",
    "et = ExtraTreesClassifier(random_state = 10)\n",
    "\n",
    "# rf = RandomForestClassifier(max_features = 'sqrt', max_leaf_nodes=100)\n",
    "# lgbm = LGBMClassifier(n_estimators=100, max_depth=10, verbosity=0, min_data_in_leaf=30)\n",
    "# cat = CatBoostClassifier(verbose=0)\n",
    "# et = ExtraTreesClassifier()\n",
    "\n",
    "# knn = KNeighborsClassifier(n_neighbors = 5)\n",
    "# svc = SVC(gamma = 'auto', C = 5, probability = True)\n",
    "# nusvc = NuSVC(probability = True)\n",
    "# dct = DecisionTreeClassifier(max_depth = 3)"
   ]
  },
  {
   "attachments": {},
   "cell_type": "markdown",
   "metadata": {},
   "source": [
    "##### 일정 기준 이상의 상관계수 column 추출"
   ]
  },
  {
   "cell_type": "code",
   "execution_count": 33,
   "metadata": {},
   "outputs": [],
   "source": [
    "# correlation_matrix = data.corr().round(2)\n",
    "# Pass_Fail_corr = correlation_matrix['result']\n",
    "# PFC=pd.DataFrame(Pass_Fail_corr)\n",
    "\n",
    "# PFC_R = PFC.loc[abs(PFC.result) >= 0.05]\n",
    "# print(PFC_R)\n",
    "\n",
    "# corrData = data[PFC_R.index]\n",
    "# data = corrData\n",
    "# colCnt = data.shape[1]\n",
    "# print(colCnt)\n",
    "# X = data.iloc[:, :colCnt-1]\n",
    "# y = data.iloc[:, colCnt-1:]"
   ]
  },
  {
   "attachments": {},
   "cell_type": "markdown",
   "metadata": {},
   "source": [
    "##### 히트맵 그리기"
   ]
  },
  {
   "cell_type": "code",
   "execution_count": 34,
   "metadata": {},
   "outputs": [],
   "source": [
    "# df = data\n",
    "# columns = np.array(df.columns)\n",
    "# df_small = df[columns]\n",
    "# df_corr = df_small.corr()\n",
    "# plt.figure(figsize=(50, 50))\n",
    "# sns.heatmap(df_corr, annot=True, fmt=\".2f\", cmap=\"Blues\")"
   ]
  },
  {
   "cell_type": "markdown",
   "metadata": {},
   "source": [
    "##### Kfold"
   ]
  },
  {
   "cell_type": "code",
   "execution_count": 35,
   "metadata": {},
   "outputs": [],
   "source": [
    "# column_names = ['Diff_FirstBLOOD', 'Diff_FirstDRAGON', 'Diff_FirstHERALD',\n",
    "#        'Diff_Firsttower', 'dragonType', 'invadeKill', 'invadeDeath',\n",
    "#        'controlWARDPlaced', 'Kill_top', 'Kill_jgl', 'Kill_mid', 'Kill_ad',\n",
    "#        'Kill_sup', 'Death_top', 'Death_jgl', 'Death_mid', 'Death_ad',\n",
    "#        'Death_sup', 'Assist_top', 'Assist_jgl', 'Assist_mid', 'Assist_ad',\n",
    "#        'Assist_sup', 'LV_top', 'LV_jgl', colName, colName, 'LV_sup', 'CS_top',\n",
    "#        'CS_jgl', 'CS_mid', 'CS_ad', 'CS_sup', 'jglCS_top', 'jglCS_jgl',\n",
    "#        'jglCS_mid', 'jglCS_ad', 'jglCS_sup', 'GOLD_top', 'GOLD_jgl',\n",
    "#        'GOLD_mid', 'GOLD_ad', 'GOLD_sup', 'WARDkill', 'Inhibitor', 'TOWERkill',\n",
    "#        'WARDplaced']\n",
    "# model = rf\n",
    "# kf = KFold(n_splits=5, shuffle=True, random_state=42)\n",
    "# for train_index, test_index in kf.split(X):\n",
    "#     X_train, X_test = data.iloc[train_index][column_names], data.iloc[test_index][column_names]\n",
    "#     y_train, y_test = data.iloc[train_index]['result'], data.iloc[test_index]['result']\n",
    "#     model.fit(X_train, y_train)\n",
    "#     pre = model.predict(X_test)\n",
    "\n",
    "#     # score = accuracy_score(y_test, pre)\n",
    "#     print('accuracy_score : ', accuracy_score(y_test, pre))\n",
    "#     print('f1_score : ', f1_score(y_test, pre))\n",
    "#     tn, fp, fn, tp = confusion_matrix(y_test, pre).ravel()\n",
    "#     print('tn:', tn, ' fp:', fp, ' fn:', fn, ' tp:', tp)\n",
    "#     print()\n",
    "    \n",
    "\n",
    "# # scores = cross_val_score(model, data[column_names], data['result'], cv=kf)\n",
    "# # mean_score = np.mean(scores)\n",
    "# # print(f'평균 평가 점수: {mean_score}')"
   ]
  },
  {
   "cell_type": "code",
   "execution_count": 36,
   "metadata": {},
   "outputs": [
    {
     "name": "stdout",
     "output_type": "stream",
     "text": [
      "GRANMASTER의 15분 데이터\n"
     ]
    },
    {
     "name": "stdout",
     "output_type": "stream",
     "text": [
      "RandomForest Train Accuracy 86.62 %\n",
      "RandomForest Test Accuracy :  81.45 %\n",
      "RandomForest F1_score : 81.91 %\n",
      "RandomForest ROC_AUC : 81.43 %\n",
      "tn: 1485  fp: 371  fn: 327  tp: 1580\n",
      "LightGBM Train Accuracy 92.38 %\n",
      "LightGBM Test Accuracy :  86.93 %\n",
      "LightGBM F1_score : 87.19 %\n",
      "LightGBM ROC_AUC : 86.91 %\n",
      "tn: 1597  fp: 259  fn: 233  tp: 1674\n",
      "CatBoost Train Accuracy 94.95 %\n",
      "CatBoost Test Accuracy :  88.41 %\n",
      "CatBoost F1_score : 88.6 %\n",
      "CatBoost ROC_AUC : 88.41 %\n",
      "tn: 1632  fp: 224  fn: 212  tp: 1695\n",
      "ExtraTree Train Accuracy 82.97 %\n",
      "ExtraTree Test Accuracy :  80.84 %\n",
      "ExtraTree F1_score : 80.88 %\n",
      "ExtraTree ROC_AUC : 80.85 %\n",
      "tn: 1517  fp: 339  fn: 382  tp: 1525\n"
     ]
    }
   ],
   "source": [
    "print(f'{tier}의 {min}분 데이터')\n",
    "et = ExtraTreesClassifier(max_depth=7, random_state = 10)\n",
    "\n",
    "modelList = [rf, lgbm, cat, et]\n",
    "# modelList = [knn, svc, nusvc, dct]\n",
    "modelNameList = [\"RandomForest\", \"LightGBM\", \"CatBoost\", \"ExtraTree\"]\n",
    "# modelNameList = [\"KNN\", \"SVC\", \"NuSVC\", \"DecisionTree\"]\n",
    "fieldnames = [\"Model\", \"accuracy_score\", \"F1_score\", \"TN\", \"FP\", \"FN\", \"TP\"]\n",
    "for i in range(4):\n",
    "    model = modelList[i]\n",
    "    X_train, X_test, y_train, y_test = train_test_split(X, y, test_size = 0.3, random_state=10) # 학습데이터와 평가데이터의 비율을 8:2 로 분할|\n",
    "    y_train = y_train.values.ravel()\n",
    "    model.fit(X_train, y_train)\n",
    "    pre_test = model.predict(X_test)\n",
    "    pre_train = model.predict(X_train)\n",
    "    tn, fp, fn, tp = confusion_matrix(y_test, pre_test).ravel()\n",
    "    if model == cat:\n",
    "        printModel = f\"CatBoost{model.get_params()}\"\n",
    "    else:\n",
    "        printModel = model\n",
    "    print(f\"{modelNameList[i]} Train Accuracy\", round(accuracy_score(y_train, pre_train)*100, 2), \"%\")\n",
    "    print(f\"{modelNameList[i]} Test Accuracy : \", round(accuracy_score(y_test, pre_test)*100, 2), \"%\")\n",
    "    print(f\"{modelNameList[i]} F1_score :\", round(f1_score(y_test, pre_test)*100, 2), \"%\")\n",
    "    print(f\"{modelNameList[i]} ROC_AUC :\", round(roc_auc_score(y_test, pre_test)*100, 2), \"%\")\n",
    "    print('tn:', tn, ' fp:', fp, ' fn:', fn, ' tp:', tp)\n",
    "\n",
    "    # 과적합 확인\n",
    "    # scores = cross_val_score(model, X, y, cv=3)\n",
    "    # print(\"교차 검증 평균 정확도:\", scores.mean())\n",
    "\n",
    "    # 결과 csv로 저장\n",
    "    fieldnames = [\"Tier\", \"Min\",\"TIME\", \"Model\", \"Train_Accuracy\", \"Test_Accuracy\", \"F1_score\", \"ROC_AUC\", \"TN\", \"FP\", \"FN\", \"TP\", \"Note\"]\n",
    "    result = {\"Tier\": tier,\n",
    "              \"Min\": min,\n",
    "              \"TIME\": datetime.now().strftime(\"%Y-%m-%d %H:%M:%S\"),\n",
    "              \"Model\": printModel, \n",
    "              \"Train_Accuracy\" : round(accuracy_score(y_train, pre_train)*100, 2),\n",
    "              \"Test_Accuracy\" : round(accuracy_score(y_test, pre_test)*100, 2), \n",
    "              \"F1_score\" : round(f1_score(y_test, pre_test)*100, 2),\n",
    "              \"ROC_AUC\" : round(roc_auc_score(y_test, pre_test)*100, 2),\n",
    "              \"TN\": tn,\n",
    "              \"FP\": fp,\n",
    "              \"FN\": fn,\n",
    "              \"TP\": tp,\n",
    "              \"Note\": 'solve ExtraTrees overfittng'}\n",
    "    with open(f'../Dataset/perMinuteDataset/result/currentAccuracy/{tier}.csv', 'a', newline='') as f:\n",
    "        w = csv.DictWriter(f, fieldnames=fieldnames)\n",
    "        if i == 0:\n",
    "            w.writeheader()\n",
    "        w.writerow(result)"
   ]
  },
  {
   "cell_type": "markdown",
   "metadata": {},
   "source": [
    "##### GridSearch"
   ]
  },
  {
   "cell_type": "code",
   "execution_count": 37,
   "metadata": {},
   "outputs": [],
   "source": [
    "# from sklearn.model_selection import GridSearchCV\n",
    "# params = {'num_leaves': [31, 50, 100],\n",
    "#           'max_depth': [-1, 5, 10]\n",
    "#             }\n",
    "# lgbm_clf = LGBMClassifier(random_state = 0, n_jobs = -1)\n",
    "# grid_cv = GridSearchCV(lgbm_clf, param_grid = params, cv = 3, n_jobs = -1)\n",
    "# grid_cv.fit(X_train, y_train)\n",
    "\n",
    "# print('최적 하이퍼 파라미터: ', grid_cv.best_params_)\n",
    "# print('최고 예측 정확도: {:.4f}'.format(grid_cv.best_score_))"
   ]
  }
 ],
 "metadata": {
  "kernelspec": {
   "display_name": "Python 3",
   "language": "python",
   "name": "python3"
  },
  "language_info": {
   "codemirror_mode": {
    "name": "ipython",
    "version": 3
   },
   "file_extension": ".py",
   "mimetype": "text/x-python",
   "name": "python",
   "nbconvert_exporter": "python",
   "pygments_lexer": "ipython3",
   "version": "3.10.4"
  }
 },
 "nbformat": 4,
 "nbformat_minor": 2
}
