{
 "cells": [
  {
   "cell_type": "code",
   "execution_count": 1,
   "metadata": {},
   "outputs": [
    {
     "ename": "ModuleNotFoundError",
     "evalue": "No module named 'pandas'",
     "output_type": "error",
     "traceback": [
      "\u001b[1;31m---------------------------------------------------------------------------\u001b[0m",
      "\u001b[1;31mModuleNotFoundError\u001b[0m                       Traceback (most recent call last)",
      "Cell \u001b[1;32mIn[1], line 1\u001b[0m\n\u001b[1;32m----> 1\u001b[0m \u001b[39mimport\u001b[39;00m \u001b[39mpandas\u001b[39;00m \u001b[39mas\u001b[39;00m \u001b[39mpd\u001b[39;00m\n\u001b[0;32m      2\u001b[0m \u001b[39mfrom\u001b[39;00m \u001b[39msklearn\u001b[39;00m\u001b[39m.\u001b[39;00m\u001b[39mmodel_selection\u001b[39;00m \u001b[39mimport\u001b[39;00m train_test_split\n\u001b[0;32m      3\u001b[0m \u001b[39mimport\u001b[39;00m \u001b[39mnumpy\u001b[39;00m \u001b[39mas\u001b[39;00m \u001b[39mnp\u001b[39;00m\n",
      "\u001b[1;31mModuleNotFoundError\u001b[0m: No module named 'pandas'"
     ]
    }
   ],
   "source": [
    "import pandas as pd\n",
    "from sklearn.model_selection import train_test_split\n",
    "import numpy as np\n",
    "from sklearn.ensemble import RandomForestClassifier\n",
    "from sklearn.ensemble import ExtraTreesClassifier\n",
    "from lightgbm import LGBMClassifier\n",
    "from sklearn.metrics import accuracy_score # 정확도 함수\n",
    "from catboost import CatBoostClassifier\n",
    "from sklearn.metrics import f1_score\n",
    "from sklearn.metrics import confusion_matrix\n",
    "import matplotlib.pyplot as plt\n",
    "import seaborn as sns\n",
    "from xgboost import XGBClassifier\n"
   ]
  },
  {
   "cell_type": "code",
<<<<<<< HEAD
   "execution_count": 2,
   "metadata": {},
   "outputs": [],
   "source": [
    "CHALLENGER = pd.read_csv('../Dataset/perMinuteDataset/10min/CHALLENGER.csv')\n",
    "data = CHALLENGER"
=======
   "execution_count": null,
   "metadata": {},
   "outputs": [],
   "source": [
    "Grandmaster = pd.read_csv('../Dataset/perMinuteDataset/10min/CHALLENGER.csv')\n"
>>>>>>> 55839101ce45da09323d3bac57528364c5f8b0ca
   ]
  },
  {
   "cell_type": "code",
<<<<<<< HEAD
   "execution_count": 3,
=======
   "execution_count": null,
>>>>>>> 55839101ce45da09323d3bac57528364c5f8b0ca
   "metadata": {},
   "outputs": [],
   "source": [
    "win_data = data[['Diff_FirstBLOOD', 'Diff_FirstDRAGON',\n",
    "       'Diff_FirstHERALD', 'Diff_Firsttower', 'dragonType', 'WIN_invadeKill', 'WIN_invadeDeath','WIN_controlWARDPlaced', \n",
    "       'WIN_Kill_top', 'WIN_Kill_jgl', 'WIN_Kill_mid', 'WIN_Kill_ad', 'WIN_Kill_sup',\n",
    "       'WIN_Death_top', 'WIN_Death_jgl', 'WIN_Death_mid', 'WIN_Death_ad', 'WIN_Death_sup', \n",
    "       'WIN_Asisst_top', 'WIN_Asisst_jgl', 'WIN_Asisst_mid', 'WIN_Asisst_ad', 'WIN_Asisst_sup',\n",
    "       'WIN_LV_top', 'WIN_LV_jgl', 'WIN_LV_mid', 'WIN_LV_ad', 'WIN_LV_sup',\n",
    "       'WIN_CS_top', 'WIN_CS_jgl', 'WIN_CS_mid', 'WIN_CS_ad', 'WIN_CS_sup',\n",
    "       'WIN_jglCS_top', 'WIN_jglCS_jgl', 'WIN_jglCS_mid', 'WIN_jglCS_ad', 'WIN_jglCS_sup',\n",
    "       'WIN_GOLD_top', 'WIN_GOLD_jgl', 'WIN_GOLD_mid', 'WIN_GOLD_ad', 'WIN_GOLD_sup',\n",
    "       'WIN_WARDkill', 'WIN_Inhibitor','WIN_TOWERkill', 'WIN_WARDplaced']]\n",
    "lose_data = data[['Diff_FirstBLOOD', 'Diff_FirstDRAGON',\n",
    "       'Diff_FirstHERALD', 'Diff_Firsttower', 'dragonType',\n",
    "       'LOSE_invadeDeath', 'LOSE_invadeKill',\n",
    "       'LOSE_controlWARDPlaced',\n",
    "       'LOSE_Kill_top', 'LOSE_Kill_jgl', 'LOSE_Kill_mid', 'LOSE_Kill_ad', 'LOSE_Kill_sup',\n",
    "       'LOSE_Death_top', 'LOSE_Death_jgl',\n",
    "       'LOSE_Death_mid', 'LOSE_Death_ad', 'LOSE_Death_sup',\n",
    "       'LOSE_Asisst_top', 'LOSE_Asisst_jgl', 'LOSE_Asisst_mid',\n",
    "       'LOSE_Asisst_ad', 'LOSE_Asisst_sup',\n",
    "       'LOSE_LV_top', 'LOSE_LV_jgl',\n",
    "       'LOSE_LV_mid', 'LOSE_LV_ad', 'LOSE_LV_sup',\n",
    "       'LOSE_CS_top', 'LOSE_CS_jgl',\n",
    "       'LOSE_CS_mid', 'LOSE_CS_ad', 'LOSE_CS_sup',\n",
    "       'LOSE_jglCS_top', 'LOSE_jglCS_jgl', 'LOSE_jglCS_mid', 'LOSE_jglCS_ad', 'LOSE_jglCS_sup',\n",
    "       'LOSE_GOLD_top', 'LOSE_GOLD_jgl',\n",
    "       'LOSE_GOLD_mid', 'LOSE_GOLD_ad', 'LOSE_GOLD_sup',\n",
    "       'LOSE_WARDkill', 'LOSE_Inhibitor',\n",
    "       'LOSE_TOWERkill', 'LOSE_WARDplaced']]\n",
    "colName = 'WIN'\n",
    "win_data = win_data.rename(columns={f'{colName}_invadeKill': 'invadeKill', f'{colName}_invadeDeath': 'invadeDeath', \n",
    "                                                  f'{colName}_controlWARDPlaced': 'controlWARDPlaced',\n",
    "                                                  f'{colName}_Kill_top': 'Kill_top',f'{colName}_Kill_jgl': 'Kill_jgl',f'{colName}_Kill_mid': 'Kill_mid',f'{colName}_Kill_ad': 'Kill_ad', f'{colName}_Kill_sup': 'Kill_sup',\n",
    "                                                  f'{colName}_Death_top': 'Death_top',f'{colName}_Death_jgl': 'Death_jgl',f'{colName}_Death_mid': 'Death_mid',f'{colName}_Death_ad': 'Death_ad',f'{colName}_Death_sup': 'Death_sup',\n",
    "                                                  f'{colName}_Asisst_top': 'Assist_top',f'{colName}_Asisst_jgl': 'Assist_jgl',f'{colName}_Asisst_mid': 'Assist_mid',f'{colName}_Asisst_ad': 'Assist_ad',f'{colName}_Asisst_sup': 'Assist_sup',\n",
    "                                                  f'{colName}_LV_top': 'LV_top',f'{colName}_LV_jgl': 'LV_jgl',f'{colName}_LV_mid': 'LV_mid',f'{colName}_LV_ad': 'LV_ad',f'{colName}_LV_sup': 'LV_sup',\n",
    "                                                  f'{colName}_CS_top': 'CS_top',f'{colName}_CS_jgl': 'CS_jgl',f'{colName}_CS_mid': 'CS_mid',f'{colName}_CS_ad': 'CS_ad',f'{colName}_CS_sup': 'CS_sup',\n",
    "                                                  f'{colName}_jglCS_top': 'jglCS_top',f'{colName}_jglCS_jgl': 'jglCS_jgl',f'{colName}_jglCS_mid': 'jglCS_mid',f'{colName}_jglCS_ad': 'jglCS_ad',f'{colName}_jglCS_sup': 'jglCS_sup',\n",
    "                                                  f'{colName}_GOLD_top': 'GOLD_top',f'{colName}_GOLD_jgl': 'GOLD_jgl',f'{colName}_GOLD_mid': 'GOLD_mid',f'{colName}_GOLD_ad': 'GOLD_ad',f'{colName}_GOLD_sup': 'GOLD_sup',\n",
    "                                                  f'{colName}_WARDkill': 'WARDkill',f'{colName}_Inhibitor': 'Inhibitor',f'{colName}_TOWERkill': 'TOWERkill',f'{colName}_WARDplaced': 'WARDplaced'})\n",
    "\n",
    "colName = 'LOSE'\n",
    "lose_data = lose_data.rename(columns={f'{colName}_invadeKill': 'invadeKill', f'{colName}_invadeDeath': 'invadeDeath', \n",
    "                                                  f'{colName}_controlWARDPlaced': 'controlWARDPlaced',\n",
    "                                                  f'{colName}_Kill_top': 'Kill_top',f'{colName}_Kill_jgl': 'Kill_jgl',f'{colName}_Kill_mid': 'Kill_mid',f'{colName}_Kill_ad': 'Kill_ad', f'{colName}_Kill_sup': 'Kill_sup',\n",
    "                                                  f'{colName}_Death_top': 'Death_top',f'{colName}_Death_jgl': 'Death_jgl',f'{colName}_Death_mid': 'Death_mid',f'{colName}_Death_ad': 'Death_ad',f'{colName}_Death_sup': 'Death_sup',\n",
    "                                                  f'{colName}_Asisst_top': 'Assist_top',f'{colName}_Asisst_jgl': 'Assist_jgl',f'{colName}_Asisst_mid': 'Assist_mid',f'{colName}_Asisst_ad': 'Assist_ad',f'{colName}_Asisst_sup': 'Assist_sup',\n",
    "                                                  f'{colName}_LV_top': 'LV_top',f'{colName}_LV_jgl': 'LV_jgl',f'{colName}_LV_mid': 'LV_mid',f'{colName}_LV_ad': 'LV_ad',f'{colName}_LV_sup': 'LV_sup',\n",
    "                                                  f'{colName}_CS_top': 'CS_top',f'{colName}_CS_jgl': 'CS_jgl',f'{colName}_CS_mid': 'CS_mid',f'{colName}_CS_ad': 'CS_ad',f'{colName}_CS_sup': 'CS_sup',\n",
    "                                                  f'{colName}_jglCS_top': 'jglCS_top',f'{colName}_jglCS_jgl': 'jglCS_jgl',f'{colName}_jglCS_mid': 'jglCS_mid',f'{colName}_jglCS_ad': 'jglCS_ad',f'{colName}_jglCS_sup': 'jglCS_sup',\n",
    "                                                  f'{colName}_GOLD_top': 'GOLD_top',f'{colName}_GOLD_jgl': 'GOLD_jgl',f'{colName}_GOLD_mid': 'GOLD_mid',f'{colName}_GOLD_ad': 'GOLD_ad',f'{colName}_GOLD_sup': 'GOLD_sup',\n",
    "                                                  f'{colName}_WARDkill': 'WARDkill',f'{colName}_Inhibitor': 'Inhibitor',f'{colName}_TOWERkill': 'TOWERkill',f'{colName}_WARDplaced': 'WARDplaced'})\n",
    "win_data['result'] = 1\n",
    "lose_data['result'] = 0\n",
    "data = pd.concat([win_data, lose_data], axis=0, ignore_index=True)"
   ]
  },
  {
   "attachments": {},
   "cell_type": "markdown",
   "metadata": {},
   "source": [
    "##### 상관계수 높은 column 추출"
   ]
  },
  {
   "cell_type": "code",
<<<<<<< HEAD
   "execution_count": 4,
=======
   "execution_count": null,
>>>>>>> 55839101ce45da09323d3bac57528364c5f8b0ca
   "metadata": {},
   "outputs": [],
   "source": [
    "# correlation_matrix = data.corr().round(2)\n",
    "# Pass_Fail_corr = correlation_matrix['result']\n",
    "# PFC=pd.DataFrame(Pass_Fail_corr)\n",
    "\n",
    "# PFC_R = PFC.loc[abs(PFC.result) >= 0.1]\n",
    "# corrData = data[PFC_R.index]\n",
    "# data = corrData"
   ]
  },
  {
   "attachments": {},
   "cell_type": "markdown",
   "metadata": {},
   "source": [
    "##### 히트맵 그리기"
   ]
  },
  {
   "cell_type": "code",
<<<<<<< HEAD
   "execution_count": 5,
=======
   "execution_count": null,
>>>>>>> 55839101ce45da09323d3bac57528364c5f8b0ca
   "metadata": {},
   "outputs": [],
   "source": [
    "# df = data\n",
    "# columns = np.array(df.columns)\n",
    "# df_small = df[columns]\n",
    "# df_corr = df_small.corr()\n",
    "# plt.figure(figsize=(50, 50))\n",
    "# sns.heatmap(df_corr, annot=True, fmt=\".2f\", cmap=\"Blues\")"
   ]
  },
  {
   "cell_type": "code",
<<<<<<< HEAD
   "execution_count": 6,
=======
   "execution_count": null,
>>>>>>> 55839101ce45da09323d3bac57528364c5f8b0ca
   "metadata": {},
   "outputs": [],
   "source": [
    "rf = RandomForestClassifier(n_estimators=500, max_depth=50, random_state = 10)\n",
    "lgbm = LGBMClassifier(n_estimators=100, max_depth=10, verbosity=0, min_data_in_leaf=30, random_state=10)\n",
    "cat = CatBoostClassifier(iterations=100, depth=4, learning_rate=0.2, random_state=10)\n",
    "et = ExtraTreesClassifier(n_estimators=100, random_state = 10)\n",
    "# xgb = XGBClassifier(n_estimators=100, learning_rate=1, max_depth=10, random_state = 10)\n",
    "xgb = XGBClassifier(n_estimators=100, learning_rate=0.2, max_depth=4, random_state = 32)\n",
    "\n"
   ]
  },
  {
   "cell_type": "code",
<<<<<<< HEAD
   "execution_count": 7,
=======
   "execution_count": null,
>>>>>>> 55839101ce45da09323d3bac57528364c5f8b0ca
   "metadata": {},
   "outputs": [
    {
     "name": "stdout",
     "output_type": "stream",
     "text": [
<<<<<<< HEAD
      "48\n",
      "RandomForest : 74.78 %\n",
      "RandomForest f1 : 74.76 %\n",
      "tn: 987  fp: 338  fn: 327  tp: 985\n",
      "[LightGBM] [Warning] min_data_in_leaf is set=30, min_child_samples=20 will be ignored. Current value: min_data_in_leaf=30\n",
      "[LightGBM] [Warning] Accuracy may be bad since you didn't explicitly set num_leaves OR 2^max_depth > num_leaves. (num_leaves=31).\n",
      "[LightGBM] [Warning] min_data_in_leaf is set=30, min_child_samples=20 will be ignored. Current value: min_data_in_leaf=30\n",
      "[LightGBM] [Warning] Accuracy may be bad since you didn't explicitly set num_leaves OR 2^max_depth > num_leaves. (num_leaves=31).\n",
      "[LightGBM] [Warning] min_data_in_leaf is set=30, min_child_samples=20 will be ignored. Current value: min_data_in_leaf=30\n",
      "[LightGBM] [Warning] Accuracy may be bad since you didn't explicitly set num_leaves OR 2^max_depth > num_leaves. (num_leaves=31).\n",
      "lightGBM : 78.92 %\n",
      "lightGBM f1 : 78.89 %\n",
      "tn: 1042  fp: 283  fn: 273  tp: 1039\n",
      "0:\tlearn: 0.6689787\ttotal: 152ms\tremaining: 15.1s\n",
      "1:\tlearn: 0.6457539\ttotal: 169ms\tremaining: 8.3s\n",
      "2:\tlearn: 0.6310279\ttotal: 190ms\tremaining: 6.13s\n",
      "3:\tlearn: 0.6139076\ttotal: 209ms\tremaining: 5.01s\n",
      "4:\tlearn: 0.6033162\ttotal: 226ms\tremaining: 4.3s\n",
      "5:\tlearn: 0.5826691\ttotal: 246ms\tremaining: 3.86s\n",
      "6:\tlearn: 0.5746953\ttotal: 264ms\tremaining: 3.51s\n",
      "7:\tlearn: 0.5568496\ttotal: 282ms\tremaining: 3.25s\n",
      "8:\tlearn: 0.5469587\ttotal: 300ms\tremaining: 3.03s\n",
      "9:\tlearn: 0.5383604\ttotal: 318ms\tremaining: 2.86s\n",
      "10:\tlearn: 0.5331856\ttotal: 337ms\tremaining: 2.73s\n",
      "11:\tlearn: 0.4810242\ttotal: 353ms\tremaining: 2.59s\n",
      "12:\tlearn: 0.4775900\ttotal: 372ms\tremaining: 2.49s\n",
      "13:\tlearn: 0.4747296\ttotal: 390ms\tremaining: 2.4s\n",
      "14:\tlearn: 0.4699443\ttotal: 406ms\tremaining: 2.3s\n",
      "15:\tlearn: 0.4658322\ttotal: 424ms\tremaining: 2.23s\n",
      "16:\tlearn: 0.4629190\ttotal: 441ms\tremaining: 2.15s\n",
      "17:\tlearn: 0.4596121\ttotal: 460ms\tremaining: 2.09s\n",
      "18:\tlearn: 0.4562300\ttotal: 478ms\tremaining: 2.04s\n",
      "19:\tlearn: 0.4528606\ttotal: 495ms\tremaining: 1.98s\n",
      "20:\tlearn: 0.4514690\ttotal: 514ms\tremaining: 1.93s\n",
      "21:\tlearn: 0.4474298\ttotal: 531ms\tremaining: 1.88s\n",
      "22:\tlearn: 0.4458957\ttotal: 550ms\tremaining: 1.84s\n",
      "23:\tlearn: 0.4438564\ttotal: 568ms\tremaining: 1.8s\n",
      "24:\tlearn: 0.4425365\ttotal: 587ms\tremaining: 1.76s\n",
      "25:\tlearn: 0.4399503\ttotal: 605ms\tremaining: 1.72s\n",
      "26:\tlearn: 0.4375461\ttotal: 626ms\tremaining: 1.69s\n",
      "27:\tlearn: 0.4345414\ttotal: 646ms\tremaining: 1.66s\n",
      "28:\tlearn: 0.4188031\ttotal: 663ms\tremaining: 1.62s\n",
      "29:\tlearn: 0.4177241\ttotal: 680ms\tremaining: 1.59s\n",
      "30:\tlearn: 0.4150884\ttotal: 697ms\tremaining: 1.55s\n",
      "31:\tlearn: 0.4143253\ttotal: 715ms\tremaining: 1.52s\n",
      "32:\tlearn: 0.4133152\ttotal: 735ms\tremaining: 1.49s\n",
      "33:\tlearn: 0.4122244\ttotal: 753ms\tremaining: 1.46s\n",
      "34:\tlearn: 0.4104897\ttotal: 771ms\tremaining: 1.43s\n",
      "35:\tlearn: 0.4092863\ttotal: 788ms\tremaining: 1.4s\n",
      "36:\tlearn: 0.4085418\ttotal: 808ms\tremaining: 1.38s\n",
      "37:\tlearn: 0.4078651\ttotal: 828ms\tremaining: 1.35s\n",
      "38:\tlearn: 0.4067506\ttotal: 847ms\tremaining: 1.32s\n",
      "39:\tlearn: 0.4051449\ttotal: 864ms\tremaining: 1.3s\n",
      "40:\tlearn: 0.4045740\ttotal: 885ms\tremaining: 1.27s\n",
      "41:\tlearn: 0.4040449\ttotal: 903ms\tremaining: 1.25s\n",
      "42:\tlearn: 0.4035120\ttotal: 922ms\tremaining: 1.22s\n",
      "43:\tlearn: 0.4024742\ttotal: 942ms\tremaining: 1.2s\n",
      "44:\tlearn: 0.4014637\ttotal: 961ms\tremaining: 1.17s\n",
      "45:\tlearn: 0.4000457\ttotal: 980ms\tremaining: 1.15s\n",
      "46:\tlearn: 0.3994201\ttotal: 1s\tremaining: 1.13s\n",
      "47:\tlearn: 0.3981781\ttotal: 1.02s\tremaining: 1.1s\n",
      "48:\tlearn: 0.3974133\ttotal: 1.04s\tremaining: 1.08s\n",
      "49:\tlearn: 0.3964057\ttotal: 1.06s\tremaining: 1.06s\n",
      "50:\tlearn: 0.3955131\ttotal: 1.08s\tremaining: 1.04s\n",
      "51:\tlearn: 0.3945393\ttotal: 1.1s\tremaining: 1.02s\n",
      "52:\tlearn: 0.3933420\ttotal: 1.12s\tremaining: 993ms\n",
      "53:\tlearn: 0.3925783\ttotal: 1.14s\tremaining: 971ms\n",
      "54:\tlearn: 0.3920996\ttotal: 1.16s\tremaining: 949ms\n",
      "55:\tlearn: 0.3912338\ttotal: 1.18s\tremaining: 927ms\n",
      "56:\tlearn: 0.3897676\ttotal: 1.2s\tremaining: 904ms\n",
      "57:\tlearn: 0.3885120\ttotal: 1.22s\tremaining: 882ms\n",
      "58:\tlearn: 0.3879235\ttotal: 1.24s\tremaining: 861ms\n",
      "59:\tlearn: 0.3862634\ttotal: 1.26s\tremaining: 839ms\n",
      "60:\tlearn: 0.3856362\ttotal: 1.28s\tremaining: 818ms\n",
      "61:\tlearn: 0.3845532\ttotal: 1.3s\tremaining: 795ms\n",
      "62:\tlearn: 0.3836661\ttotal: 1.32s\tremaining: 774ms\n",
      "63:\tlearn: 0.3829982\ttotal: 1.34s\tremaining: 753ms\n",
      "64:\tlearn: 0.3824106\ttotal: 1.36s\tremaining: 732ms\n",
      "65:\tlearn: 0.3817074\ttotal: 1.38s\tremaining: 710ms\n",
      "66:\tlearn: 0.3805780\ttotal: 1.4s\tremaining: 689ms\n",
      "67:\tlearn: 0.3802194\ttotal: 1.42s\tremaining: 668ms\n",
      "68:\tlearn: 0.3796830\ttotal: 1.44s\tremaining: 647ms\n",
      "69:\tlearn: 0.3787501\ttotal: 1.46s\tremaining: 626ms\n",
      "70:\tlearn: 0.3776535\ttotal: 1.48s\tremaining: 604ms\n",
      "71:\tlearn: 0.3775214\ttotal: 1.5s\tremaining: 583ms\n",
      "72:\tlearn: 0.3768560\ttotal: 1.52s\tremaining: 562ms\n",
      "73:\tlearn: 0.3764240\ttotal: 1.54s\tremaining: 541ms\n",
      "74:\tlearn: 0.3758436\ttotal: 1.56s\tremaining: 520ms\n",
      "75:\tlearn: 0.3743272\ttotal: 1.58s\tremaining: 499ms\n",
      "76:\tlearn: 0.3735677\ttotal: 1.6s\tremaining: 478ms\n",
      "77:\tlearn: 0.3731094\ttotal: 1.62s\tremaining: 457ms\n",
      "78:\tlearn: 0.3725100\ttotal: 1.64s\tremaining: 436ms\n",
      "79:\tlearn: 0.3723773\ttotal: 1.66s\tremaining: 415ms\n",
      "80:\tlearn: 0.3719652\ttotal: 1.68s\tremaining: 394ms\n",
      "81:\tlearn: 0.3708072\ttotal: 1.7s\tremaining: 373ms\n",
      "82:\tlearn: 0.3703211\ttotal: 1.72s\tremaining: 352ms\n",
      "83:\tlearn: 0.3695086\ttotal: 1.74s\tremaining: 332ms\n",
      "84:\tlearn: 0.3690268\ttotal: 1.76s\tremaining: 311ms\n",
      "85:\tlearn: 0.3685250\ttotal: 1.78s\tremaining: 290ms\n",
      "86:\tlearn: 0.3676666\ttotal: 1.8s\tremaining: 269ms\n",
      "87:\tlearn: 0.3671914\ttotal: 1.82s\tremaining: 249ms\n",
      "88:\tlearn: 0.3667166\ttotal: 1.84s\tremaining: 228ms\n",
      "89:\tlearn: 0.3654148\ttotal: 1.86s\tremaining: 207ms\n",
      "90:\tlearn: 0.3648406\ttotal: 1.88s\tremaining: 186ms\n",
      "91:\tlearn: 0.3643087\ttotal: 1.9s\tremaining: 165ms\n",
      "92:\tlearn: 0.3636611\ttotal: 1.92s\tremaining: 144ms\n",
      "93:\tlearn: 0.3635990\ttotal: 1.94s\tremaining: 124ms\n",
      "94:\tlearn: 0.3623611\ttotal: 1.95s\tremaining: 103ms\n",
      "95:\tlearn: 0.3617414\ttotal: 1.97s\tremaining: 82.1ms\n",
      "96:\tlearn: 0.3607472\ttotal: 1.99s\tremaining: 61.5ms\n",
      "97:\tlearn: 0.3602691\ttotal: 2.01s\tremaining: 40.9ms\n",
      "98:\tlearn: 0.3596862\ttotal: 2.03s\tremaining: 20.5ms\n",
      "99:\tlearn: 0.3596063\ttotal: 2.05s\tremaining: 0us\n",
      "CatBoost : 79.71 %\n",
      "CatBoost f1 : 79.99 %\n",
      "tn: 1033  fp: 292  fn: 243  tp: 1069\n",
      "ExtraTrees : 76.87 %\n",
      "ExtraTrees f1 : 76.77 %\n",
      "tn: 1019  fp: 306  fn: 304  tp: 1008\n",
      "XGboost : 78.84 %\n",
      "XGboost f1 : 79.04 %\n",
      "tn: 1027  fp: 298  fn: 260  tp: 1052\n"
=======
      "48\n"
     ]
    },
    {
     "ename": "ValueError",
     "evalue": "could not convert string to float: 'Diff_FirstBLOOD'",
     "output_type": "error",
     "traceback": [
      "\u001b[1;31m---------------------------------------------------------------------------\u001b[0m",
      "\u001b[1;31mValueError\u001b[0m                                Traceback (most recent call last)",
      "\u001b[1;32mc:\\Pp\\LOL-MachineLearning\\dataPreprocessing\\rawDataModel.ipynb Cell 9\u001b[0m line \u001b[0;36m9\n\u001b[0;32m      <a href='vscode-notebook-cell:/c%3A/Pp/LOL-MachineLearning/dataPreprocessing/rawDataModel.ipynb#X11sZmlsZQ%3D%3D?line=6'>7</a>\u001b[0m train_y \u001b[39m=\u001b[39m train_y\u001b[39m.\u001b[39mvalues\u001b[39m.\u001b[39mravel()\n\u001b[0;32m      <a href='vscode-notebook-cell:/c%3A/Pp/LOL-MachineLearning/dataPreprocessing/rawDataModel.ipynb#X11sZmlsZQ%3D%3D?line=7'>8</a>\u001b[0m rf\u001b[39m.\u001b[39mfit(train_x, train_y)\n\u001b[1;32m----> <a href='vscode-notebook-cell:/c%3A/Pp/LOL-MachineLearning/dataPreprocessing/rawDataModel.ipynb#X11sZmlsZQ%3D%3D?line=8'>9</a>\u001b[0m rf_pre \u001b[39m=\u001b[39m rf\u001b[39m.\u001b[39;49mpredict(test_x)\n\u001b[0;32m     <a href='vscode-notebook-cell:/c%3A/Pp/LOL-MachineLearning/dataPreprocessing/rawDataModel.ipynb#X11sZmlsZQ%3D%3D?line=9'>10</a>\u001b[0m tn, fp, fn, tp \u001b[39m=\u001b[39m confusion_matrix(test_y, rf_pre)\u001b[39m.\u001b[39mravel()\n\u001b[0;32m     <a href='vscode-notebook-cell:/c%3A/Pp/LOL-MachineLearning/dataPreprocessing/rawDataModel.ipynb#X11sZmlsZQ%3D%3D?line=10'>11</a>\u001b[0m \u001b[39mprint\u001b[39m(\u001b[39m\"\u001b[39m\u001b[39mRandomForest :\u001b[39m\u001b[39m\"\u001b[39m, \u001b[39mround\u001b[39m(accuracy_score(test_y, rf_pre)\u001b[39m*\u001b[39m\u001b[39m100\u001b[39m, \u001b[39m2\u001b[39m), \u001b[39m\"\u001b[39m\u001b[39m%\u001b[39m\u001b[39m\"\u001b[39m)\n",
      "File \u001b[1;32m~\\AppData\\Local\\Packages\\PythonSoftwareFoundation.Python.3.9_qbz5n2kfra8p0\\LocalCache\\local-packages\\Python39\\site-packages\\sklearn\\ensemble\\_forest.py:823\u001b[0m, in \u001b[0;36mForestClassifier.predict\u001b[1;34m(self, X)\u001b[0m\n\u001b[0;32m    802\u001b[0m \u001b[39mdef\u001b[39;00m \u001b[39mpredict\u001b[39m(\u001b[39mself\u001b[39m, X):\n\u001b[0;32m    803\u001b[0m \u001b[39m    \u001b[39m\u001b[39m\"\"\"\u001b[39;00m\n\u001b[0;32m    804\u001b[0m \u001b[39m    Predict class for X.\u001b[39;00m\n\u001b[0;32m    805\u001b[0m \n\u001b[1;32m   (...)\u001b[0m\n\u001b[0;32m    821\u001b[0m \u001b[39m        The predicted classes.\u001b[39;00m\n\u001b[0;32m    822\u001b[0m \u001b[39m    \"\"\"\u001b[39;00m\n\u001b[1;32m--> 823\u001b[0m     proba \u001b[39m=\u001b[39m \u001b[39mself\u001b[39;49m\u001b[39m.\u001b[39;49mpredict_proba(X)\n\u001b[0;32m    825\u001b[0m     \u001b[39mif\u001b[39;00m \u001b[39mself\u001b[39m\u001b[39m.\u001b[39mn_outputs_ \u001b[39m==\u001b[39m \u001b[39m1\u001b[39m:\n\u001b[0;32m    826\u001b[0m         \u001b[39mreturn\u001b[39;00m \u001b[39mself\u001b[39m\u001b[39m.\u001b[39mclasses_\u001b[39m.\u001b[39mtake(np\u001b[39m.\u001b[39margmax(proba, axis\u001b[39m=\u001b[39m\u001b[39m1\u001b[39m), axis\u001b[39m=\u001b[39m\u001b[39m0\u001b[39m)\n",
      "File \u001b[1;32m~\\AppData\\Local\\Packages\\PythonSoftwareFoundation.Python.3.9_qbz5n2kfra8p0\\LocalCache\\local-packages\\Python39\\site-packages\\sklearn\\ensemble\\_forest.py:865\u001b[0m, in \u001b[0;36mForestClassifier.predict_proba\u001b[1;34m(self, X)\u001b[0m\n\u001b[0;32m    863\u001b[0m check_is_fitted(\u001b[39mself\u001b[39m)\n\u001b[0;32m    864\u001b[0m \u001b[39m# Check data\u001b[39;00m\n\u001b[1;32m--> 865\u001b[0m X \u001b[39m=\u001b[39m \u001b[39mself\u001b[39;49m\u001b[39m.\u001b[39;49m_validate_X_predict(X)\n\u001b[0;32m    867\u001b[0m \u001b[39m# Assign chunk of trees to jobs\u001b[39;00m\n\u001b[0;32m    868\u001b[0m n_jobs, _, _ \u001b[39m=\u001b[39m _partition_estimators(\u001b[39mself\u001b[39m\u001b[39m.\u001b[39mn_estimators, \u001b[39mself\u001b[39m\u001b[39m.\u001b[39mn_jobs)\n",
      "File \u001b[1;32m~\\AppData\\Local\\Packages\\PythonSoftwareFoundation.Python.3.9_qbz5n2kfra8p0\\LocalCache\\local-packages\\Python39\\site-packages\\sklearn\\ensemble\\_forest.py:599\u001b[0m, in \u001b[0;36mBaseForest._validate_X_predict\u001b[1;34m(self, X)\u001b[0m\n\u001b[0;32m    596\u001b[0m \u001b[39m\u001b[39m\u001b[39m\"\"\"\u001b[39;00m\n\u001b[0;32m    597\u001b[0m \u001b[39mValidate X whenever one tries to predict, apply, predict_proba.\"\"\"\u001b[39;00m\n\u001b[0;32m    598\u001b[0m check_is_fitted(\u001b[39mself\u001b[39m)\n\u001b[1;32m--> 599\u001b[0m X \u001b[39m=\u001b[39m \u001b[39mself\u001b[39;49m\u001b[39m.\u001b[39;49m_validate_data(X, dtype\u001b[39m=\u001b[39;49mDTYPE, accept_sparse\u001b[39m=\u001b[39;49m\u001b[39m\"\u001b[39;49m\u001b[39mcsr\u001b[39;49m\u001b[39m\"\u001b[39;49m, reset\u001b[39m=\u001b[39;49m\u001b[39mFalse\u001b[39;49;00m)\n\u001b[0;32m    600\u001b[0m \u001b[39mif\u001b[39;00m issparse(X) \u001b[39mand\u001b[39;00m (X\u001b[39m.\u001b[39mindices\u001b[39m.\u001b[39mdtype \u001b[39m!=\u001b[39m np\u001b[39m.\u001b[39mintc \u001b[39mor\u001b[39;00m X\u001b[39m.\u001b[39mindptr\u001b[39m.\u001b[39mdtype \u001b[39m!=\u001b[39m np\u001b[39m.\u001b[39mintc):\n\u001b[0;32m    601\u001b[0m     \u001b[39mraise\u001b[39;00m \u001b[39mValueError\u001b[39;00m(\u001b[39m\"\u001b[39m\u001b[39mNo support for np.int64 index based sparse matrices\u001b[39m\u001b[39m\"\u001b[39m)\n",
      "File \u001b[1;32m~\\AppData\\Local\\Packages\\PythonSoftwareFoundation.Python.3.9_qbz5n2kfra8p0\\LocalCache\\local-packages\\Python39\\site-packages\\sklearn\\base.py:605\u001b[0m, in \u001b[0;36mBaseEstimator._validate_data\u001b[1;34m(self, X, y, reset, validate_separately, cast_to_ndarray, **check_params)\u001b[0m\n\u001b[0;32m    603\u001b[0m         out \u001b[39m=\u001b[39m X, y\n\u001b[0;32m    604\u001b[0m \u001b[39melif\u001b[39;00m \u001b[39mnot\u001b[39;00m no_val_X \u001b[39mand\u001b[39;00m no_val_y:\n\u001b[1;32m--> 605\u001b[0m     out \u001b[39m=\u001b[39m check_array(X, input_name\u001b[39m=\u001b[39m\u001b[39m\"\u001b[39m\u001b[39mX\u001b[39m\u001b[39m\"\u001b[39m, \u001b[39m*\u001b[39m\u001b[39m*\u001b[39mcheck_params)\n\u001b[0;32m    606\u001b[0m \u001b[39melif\u001b[39;00m no_val_X \u001b[39mand\u001b[39;00m \u001b[39mnot\u001b[39;00m no_val_y:\n\u001b[0;32m    607\u001b[0m     out \u001b[39m=\u001b[39m _check_y(y, \u001b[39m*\u001b[39m\u001b[39m*\u001b[39mcheck_params)\n",
      "File \u001b[1;32m~\\AppData\\Local\\Packages\\PythonSoftwareFoundation.Python.3.9_qbz5n2kfra8p0\\LocalCache\\local-packages\\Python39\\site-packages\\sklearn\\utils\\validation.py:915\u001b[0m, in \u001b[0;36mcheck_array\u001b[1;34m(array, accept_sparse, accept_large_sparse, dtype, order, copy, force_all_finite, ensure_2d, allow_nd, ensure_min_samples, ensure_min_features, estimator, input_name)\u001b[0m\n\u001b[0;32m    913\u001b[0m         array \u001b[39m=\u001b[39m xp\u001b[39m.\u001b[39mastype(array, dtype, copy\u001b[39m=\u001b[39m\u001b[39mFalse\u001b[39;00m)\n\u001b[0;32m    914\u001b[0m     \u001b[39melse\u001b[39;00m:\n\u001b[1;32m--> 915\u001b[0m         array \u001b[39m=\u001b[39m _asarray_with_order(array, order\u001b[39m=\u001b[39;49morder, dtype\u001b[39m=\u001b[39;49mdtype, xp\u001b[39m=\u001b[39;49mxp)\n\u001b[0;32m    916\u001b[0m \u001b[39mexcept\u001b[39;00m ComplexWarning \u001b[39mas\u001b[39;00m complex_warning:\n\u001b[0;32m    917\u001b[0m     \u001b[39mraise\u001b[39;00m \u001b[39mValueError\u001b[39;00m(\n\u001b[0;32m    918\u001b[0m         \u001b[39m\"\u001b[39m\u001b[39mComplex data not supported\u001b[39m\u001b[39m\\n\u001b[39;00m\u001b[39m{}\u001b[39;00m\u001b[39m\\n\u001b[39;00m\u001b[39m\"\u001b[39m\u001b[39m.\u001b[39mformat(array)\n\u001b[0;32m    919\u001b[0m     ) \u001b[39mfrom\u001b[39;00m \u001b[39mcomplex_warning\u001b[39;00m\n",
      "File \u001b[1;32m~\\AppData\\Local\\Packages\\PythonSoftwareFoundation.Python.3.9_qbz5n2kfra8p0\\LocalCache\\local-packages\\Python39\\site-packages\\sklearn\\utils\\_array_api.py:380\u001b[0m, in \u001b[0;36m_asarray_with_order\u001b[1;34m(array, dtype, order, copy, xp)\u001b[0m\n\u001b[0;32m    378\u001b[0m     array \u001b[39m=\u001b[39m numpy\u001b[39m.\u001b[39marray(array, order\u001b[39m=\u001b[39morder, dtype\u001b[39m=\u001b[39mdtype)\n\u001b[0;32m    379\u001b[0m \u001b[39melse\u001b[39;00m:\n\u001b[1;32m--> 380\u001b[0m     array \u001b[39m=\u001b[39m numpy\u001b[39m.\u001b[39;49masarray(array, order\u001b[39m=\u001b[39;49morder, dtype\u001b[39m=\u001b[39;49mdtype)\n\u001b[0;32m    382\u001b[0m \u001b[39m# At this point array is a NumPy ndarray. We convert it to an array\u001b[39;00m\n\u001b[0;32m    383\u001b[0m \u001b[39m# container that is consistent with the input's namespace.\u001b[39;00m\n\u001b[0;32m    384\u001b[0m \u001b[39mreturn\u001b[39;00m xp\u001b[39m.\u001b[39masarray(array)\n",
      "File \u001b[1;32m~\\AppData\\Local\\Packages\\PythonSoftwareFoundation.Python.3.9_qbz5n2kfra8p0\\LocalCache\\local-packages\\Python39\\site-packages\\pandas\\core\\generic.py:2084\u001b[0m, in \u001b[0;36mNDFrame.__array__\u001b[1;34m(self, dtype)\u001b[0m\n\u001b[0;32m   2082\u001b[0m \u001b[39mdef\u001b[39;00m \u001b[39m__array__\u001b[39m(\u001b[39mself\u001b[39m, dtype: npt\u001b[39m.\u001b[39mDTypeLike \u001b[39m|\u001b[39m \u001b[39mNone\u001b[39;00m \u001b[39m=\u001b[39m \u001b[39mNone\u001b[39;00m) \u001b[39m-\u001b[39m\u001b[39m>\u001b[39m np\u001b[39m.\u001b[39mndarray:\n\u001b[0;32m   2083\u001b[0m     values \u001b[39m=\u001b[39m \u001b[39mself\u001b[39m\u001b[39m.\u001b[39m_values\n\u001b[1;32m-> 2084\u001b[0m     arr \u001b[39m=\u001b[39m np\u001b[39m.\u001b[39;49masarray(values, dtype\u001b[39m=\u001b[39;49mdtype)\n\u001b[0;32m   2085\u001b[0m     \u001b[39mif\u001b[39;00m (\n\u001b[0;32m   2086\u001b[0m         astype_is_view(values\u001b[39m.\u001b[39mdtype, arr\u001b[39m.\u001b[39mdtype)\n\u001b[0;32m   2087\u001b[0m         \u001b[39mand\u001b[39;00m using_copy_on_write()\n\u001b[0;32m   2088\u001b[0m         \u001b[39mand\u001b[39;00m \u001b[39mself\u001b[39m\u001b[39m.\u001b[39m_mgr\u001b[39m.\u001b[39mis_single_block\n\u001b[0;32m   2089\u001b[0m     ):\n\u001b[0;32m   2090\u001b[0m         \u001b[39m# Check if both conversions can be done without a copy\u001b[39;00m\n\u001b[0;32m   2091\u001b[0m         \u001b[39mif\u001b[39;00m astype_is_view(\u001b[39mself\u001b[39m\u001b[39m.\u001b[39mdtypes\u001b[39m.\u001b[39miloc[\u001b[39m0\u001b[39m], values\u001b[39m.\u001b[39mdtype) \u001b[39mand\u001b[39;00m astype_is_view(\n\u001b[0;32m   2092\u001b[0m             values\u001b[39m.\u001b[39mdtype, arr\u001b[39m.\u001b[39mdtype\n\u001b[0;32m   2093\u001b[0m         ):\n",
      "\u001b[1;31mValueError\u001b[0m: could not convert string to float: 'Diff_FirstBLOOD'"
>>>>>>> 55839101ce45da09323d3bac57528364c5f8b0ca
     ]
    }
   ],
   "source": [
    "colCnt = data.shape[1]\n",
    "print(colCnt)\n",
    "X = data.iloc[:, :colCnt-1]\n",
    "y = data.iloc[:, colCnt-1:]\n",
    "# # features/target, train/test dataset 분리\n",
    "train_x, test_x, train_y, test_y = train_test_split(X, y, test_size = 0.2, random_state = 42) # 학습데이터와 평가데이터의 비율을 8:2 로 분할|\n",
    "train_y = train_y.values.ravel()\n",
    "rf.fit(train_x, train_y)\n",
    "rf_pre = rf.predict(test_x)\n",
    "tn, fp, fn, tp = confusion_matrix(test_y, rf_pre).ravel()\n",
    "print(\"RandomForest :\", round(accuracy_score(test_y, rf_pre)*100, 2), \"%\")\n",
    "print(\"RandomForest f1 :\", round(f1_score(test_y, rf_pre)*100, 2), \"%\")\n",
    "print('tn:', tn, ' fp:', fp, ' fn:', fn, ' tp:', tp)\n",
    "lgbm.fit(train_x, train_y)\n",
    "lgbm_pre = lgbm.predict(test_x)\n",
    "tn, fp, fn, tp = confusion_matrix(test_y, lgbm_pre).ravel()\n",
    "print(\"lightGBM :\", round(accuracy_score(test_y, lgbm_pre)*100, 2), \"%\")\n",
    "print(\"lightGBM f1 :\", round(f1_score(test_y, lgbm_pre)*100, 2), \"%\")\n",
    "print('tn:', tn, ' fp:', fp, ' fn:', fn, ' tp:', tp)\n",
    "cat.fit(train_x, train_y)\n",
    "cat_pre = cat.predict(test_x)\n",
    "tn, fp, fn, tp = confusion_matrix(test_y, cat_pre).ravel()\n",
    "print(\"CatBoost :\", round(accuracy_score(test_y, cat_pre)*100, 2), \"%\")\n",
    "print(\"CatBoost f1 :\", round(f1_score(test_y, cat_pre)*100, 2), \"%\")\n",
    "print('tn:', tn, ' fp:', fp, ' fn:', fn, ' tp:', tp)\n",
    "et.fit(train_x, train_y)\n",
    "et_pre = et.predict(test_x)\n",
    "tn, fp, fn, tp = confusion_matrix(test_y, et_pre).ravel()\n",
    "print(\"ExtraTrees :\", round(accuracy_score(test_y, et_pre)*100, 2), \"%\")\n",
    "print(\"ExtraTrees f1 :\", round(f1_score(test_y, et_pre)*100, 2), \"%\")\n",
    "print('tn:', tn, ' fp:', fp, ' fn:', fn, ' tp:', tp)\n",
    "xgb.fit(train_x, train_y)\n",
    "xgb_pre = xgb.predict(test_x)\n",
    "tn, fp, fn, tp = confusion_matrix(test_y, xgb_pre).ravel()\n",
    "print(\"XGboost :\", round(accuracy_score(test_y, xgb_pre)*100, 2), \"%\")\n",
    "print(\"XGboost f1 :\", round(f1_score(test_y, xgb_pre)*100, 2), \"%\")\n",
    "print('tn:', tn, ' fp:', fp, ' fn:', fn, ' tp:', tp)"
   ]
  }
 ],
 "metadata": {
  "kernelspec": {
   "display_name": "Python 3",
   "language": "python",
   "name": "python3"
  },
  "language_info": {
   "codemirror_mode": {
    "name": "ipython",
    "version": 3
   },
   "file_extension": ".py",
   "mimetype": "text/x-python",
   "name": "python",
   "nbconvert_exporter": "python",
   "pygments_lexer": "ipython3",
   "version": "3.12.0"
  }
 },
 "nbformat": 4,
 "nbformat_minor": 2
}
