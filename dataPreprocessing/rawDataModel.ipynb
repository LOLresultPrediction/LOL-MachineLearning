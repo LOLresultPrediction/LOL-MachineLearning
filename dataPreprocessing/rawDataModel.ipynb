{
 "cells": [
  {
   "cell_type": "code",
   "execution_count": 1,
   "metadata": {},
   "outputs": [],
   "source": [
    "import pandas as pd\n",
    "from sklearn.model_selection import train_test_split\n",
    "import numpy as np\n",
    "from sklearn.ensemble import RandomForestClassifier\n",
    "from sklearn.ensemble import ExtraTreesClassifier\n",
    "from lightgbm import LGBMClassifier\n",
    "from sklearn.metrics import accuracy_score # 정확도 함수\n",
    "from catboost import CatBoostClassifier\n",
    "from sklearn.metrics import f1_score\n",
    "from sklearn.metrics import confusion_matrix\n",
    "import matplotlib.pyplot as plt\n",
    "import seaborn as sns\n",
    "from sklearn.model_selection import KFold\n",
    "from sklearn.model_selection import cross_val_score\n"
   ]
  },
  {
   "cell_type": "code",
   "execution_count": 15,
   "metadata": {},
   "outputs": [],
   "source": [
    "Grandmaster = pd.read_csv('../Dataset/perMinuteDataset/5min/CHALLENGER.csv')\n"
   ]
  },
  {
   "cell_type": "code",
   "execution_count": 16,
   "metadata": {},
   "outputs": [],
   "source": [
    "win_Grandmaster = Grandmaster[['Diff_FirstBLOOD', 'Diff_FirstDRAGON',\n",
    "       'Diff_FirstHERALD', 'Diff_Firsttower', 'dragonType', 'WIN_invadeKill', 'WIN_invadeDeath','WIN_controlWARDPlaced', \n",
    "       'WIN_Kill_top', 'WIN_Kill_jgl', 'WIN_Kill_mid', 'WIN_Kill_ad', 'WIN_Kill_sup',\n",
    "       'WIN_Death_top', 'WIN_Death_jgl', 'WIN_Death_mid', 'WIN_Death_ad', 'WIN_Death_sup', \n",
    "       'WIN_Asisst_top', 'WIN_Asisst_jgl', 'WIN_Asisst_mid', 'WIN_Asisst_ad', 'WIN_Asisst_sup',\n",
    "       'WIN_LV_top', 'WIN_LV_jgl', 'WIN_LV_mid', 'WIN_LV_ad', 'WIN_LV_sup',\n",
    "       'WIN_CS_top', 'WIN_CS_jgl', 'WIN_CS_mid', 'WIN_CS_ad', 'WIN_CS_sup',\n",
    "       'WIN_jglCS_top', 'WIN_jglCS_jgl', 'WIN_jglCS_mid', 'WIN_jglCS_ad', 'WIN_jglCS_sup',\n",
    "       'WIN_GOLD_top', 'WIN_GOLD_jgl', 'WIN_GOLD_mid', 'WIN_GOLD_ad', 'WIN_GOLD_sup',\n",
    "       'WIN_WARDkill', 'WIN_Inhibitor','WIN_TOWERkill', 'WIN_WARDplaced']]\n",
    "lose_Grandmaster = Grandmaster[['Diff_FirstBLOOD', 'Diff_FirstDRAGON',\n",
    "       'Diff_FirstHERALD', 'Diff_Firsttower', 'dragonType',\n",
    "       'LOSE_invadeDeath', 'LOSE_invadeKill',\n",
    "       'LOSE_controlWARDPlaced',\n",
    "       'LOSE_Kill_top', 'LOSE_Kill_jgl', 'LOSE_Kill_mid', 'LOSE_Kill_ad', 'LOSE_Kill_sup',\n",
    "       'LOSE_Death_top', 'LOSE_Death_jgl',\n",
    "       'LOSE_Death_mid', 'LOSE_Death_ad', 'LOSE_Death_sup',\n",
    "       'LOSE_Asisst_top', 'LOSE_Asisst_jgl', 'LOSE_Asisst_mid',\n",
    "       'LOSE_Asisst_ad', 'LOSE_Asisst_sup',\n",
    "       'LOSE_LV_top', 'LOSE_LV_jgl',\n",
    "       'LOSE_LV_mid', 'LOSE_LV_ad', 'LOSE_LV_sup',\n",
    "       'LOSE_CS_top', 'LOSE_CS_jgl',\n",
    "       'LOSE_CS_mid', 'LOSE_CS_ad', 'LOSE_CS_sup',\n",
    "       'LOSE_jglCS_top', 'LOSE_jglCS_jgl', 'LOSE_jglCS_mid', 'LOSE_jglCS_ad', 'LOSE_jglCS_sup',\n",
    "       'LOSE_GOLD_top', 'LOSE_GOLD_jgl',\n",
    "       'LOSE_GOLD_mid', 'LOSE_GOLD_ad', 'LOSE_GOLD_sup',\n",
    "       'LOSE_WARDkill', 'LOSE_Inhibitor',\n",
    "       'LOSE_TOWERkill', 'LOSE_WARDplaced']]\n",
    "colName = 'WIN'\n",
    "win_Grandmaster = win_Grandmaster.rename(columns={f'{colName}_invadeKill': 'invadeKill', f'{colName}_invadeDeath': 'invadeDeath', \n",
    "                                                  f'{colName}_controlWARDPlaced': 'controlWARDPlaced',\n",
    "                                                  f'{colName}_Kill_top': 'Kill_top',f'{colName}_Kill_jgl': 'Kill_jgl',f'{colName}_Kill_mid': 'Kill_mid',f'{colName}_Kill_ad': 'Kill_ad', f'{colName}_Kill_sup': 'Kill_sup',\n",
    "                                                  f'{colName}_Death_top': 'Death_top',f'{colName}_Death_jgl': 'Death_jgl',f'{colName}_Death_mid': 'Death_mid',f'{colName}_Death_ad': 'Death_ad',f'{colName}_Death_sup': 'Death_sup',\n",
    "                                                  f'{colName}_Asisst_top': 'Assist_top',f'{colName}_Asisst_jgl': 'Assist_jgl',f'{colName}_Asisst_mid': 'Assist_mid',f'{colName}_Asisst_ad': 'Assist_ad',f'{colName}_Asisst_sup': 'Assist_sup',\n",
    "                                                  f'{colName}_LV_top': 'LV_top',f'{colName}_LV_jgl': 'LV_jgl',f'{colName}_LV_mid': 'LV_mid',f'{colName}_LV_ad': 'LV_ad',f'{colName}_LV_sup': 'LV_sup',\n",
    "                                                  f'{colName}_CS_top': 'CS_top',f'{colName}_CS_jgl': 'CS_jgl',f'{colName}_CS_mid': 'CS_mid',f'{colName}_CS_ad': 'CS_ad',f'{colName}_CS_sup': 'CS_sup',\n",
    "                                                  f'{colName}_jglCS_top': 'jglCS_top',f'{colName}_jglCS_jgl': 'jglCS_jgl',f'{colName}_jglCS_mid': 'jglCS_mid',f'{colName}_jglCS_ad': 'jglCS_ad',f'{colName}_jglCS_sup': 'jglCS_sup',\n",
    "                                                  f'{colName}_GOLD_top': 'GOLD_top',f'{colName}_GOLD_jgl': 'GOLD_jgl',f'{colName}_GOLD_mid': 'GOLD_mid',f'{colName}_GOLD_ad': 'GOLD_ad',f'{colName}_GOLD_sup': 'GOLD_sup',\n",
    "                                                  f'{colName}_WARDkill': 'WARDkill',f'{colName}_Inhibitor': 'Inhibitor',f'{colName}_TOWERkill': 'TOWERkill',f'{colName}_WARDplaced': 'WARDplaced'})\n",
    "\n",
    "colName = 'LOSE'\n",
    "lose_Grandmaster = lose_Grandmaster.rename(columns={f'{colName}_invadeKill': 'invadeKill', f'{colName}_invadeDeath': 'invadeDeath', \n",
    "                                                  f'{colName}_controlWARDPlaced': 'controlWARDPlaced',\n",
    "                                                  f'{colName}_Kill_top': 'Kill_top',f'{colName}_Kill_jgl': 'Kill_jgl',f'{colName}_Kill_mid': 'Kill_mid',f'{colName}_Kill_ad': 'Kill_ad', f'{colName}_Kill_sup': 'Kill_sup',\n",
    "                                                  f'{colName}_Death_top': 'Death_top',f'{colName}_Death_jgl': 'Death_jgl',f'{colName}_Death_mid': 'Death_mid',f'{colName}_Death_ad': 'Death_ad',f'{colName}_Death_sup': 'Death_sup',\n",
    "                                                  f'{colName}_Asisst_top': 'Assist_top',f'{colName}_Asisst_jgl': 'Assist_jgl',f'{colName}_Asisst_mid': 'Assist_mid',f'{colName}_Asisst_ad': 'Assist_ad',f'{colName}_Asisst_sup': 'Assist_sup',\n",
    "                                                  f'{colName}_LV_top': 'LV_top',f'{colName}_LV_jgl': 'LV_jgl',f'{colName}_LV_mid': 'LV_mid',f'{colName}_LV_ad': 'LV_ad',f'{colName}_LV_sup': 'LV_sup',\n",
    "                                                  f'{colName}_CS_top': 'CS_top',f'{colName}_CS_jgl': 'CS_jgl',f'{colName}_CS_mid': 'CS_mid',f'{colName}_CS_ad': 'CS_ad',f'{colName}_CS_sup': 'CS_sup',\n",
    "                                                  f'{colName}_jglCS_top': 'jglCS_top',f'{colName}_jglCS_jgl': 'jglCS_jgl',f'{colName}_jglCS_mid': 'jglCS_mid',f'{colName}_jglCS_ad': 'jglCS_ad',f'{colName}_jglCS_sup': 'jglCS_sup',\n",
    "                                                  f'{colName}_GOLD_top': 'GOLD_top',f'{colName}_GOLD_jgl': 'GOLD_jgl',f'{colName}_GOLD_mid': 'GOLD_mid',f'{colName}_GOLD_ad': 'GOLD_ad',f'{colName}_GOLD_sup': 'GOLD_sup',\n",
    "                                                  f'{colName}_WARDkill': 'WARDkill',f'{colName}_Inhibitor': 'Inhibitor',f'{colName}_TOWERkill': 'TOWERkill',f'{colName}_WARDplaced': 'WARDplaced'})\n",
    "win_Grandmaster['result'] = 1\n",
    "lose_Grandmaster['result'] = -1\n",
    "data = pd.concat([win_Grandmaster, lose_Grandmaster], axis=0, ignore_index=True)"
   ]
  },
  {
   "attachments": {},
   "cell_type": "markdown",
   "metadata": {},
   "source": [
    "##### 상관계수 높은 column 추출"
   ]
  },
  {
   "cell_type": "code",
   "execution_count": 51,
   "metadata": {},
   "outputs": [],
   "source": [
    "# correlation_matrix = data.corr().round(2)\n",
    "# Pass_Fail_corr = correlation_matrix['result']\n",
    "# PFC=pd.DataFrame(Pass_Fail_corr)\n",
    "\n",
    "# PFC_R = PFC.loc[abs(PFC.result) >= 0.1]\n",
    "# corrData = data[PFC_R.index]\n",
    "# data = corrData"
   ]
  },
  {
   "attachments": {},
   "cell_type": "markdown",
   "metadata": {},
   "source": [
    "##### 히트맵 그리기"
   ]
  },
  {
   "cell_type": "code",
   "execution_count": 52,
   "metadata": {},
   "outputs": [],
   "source": [
    "# df = data\n",
    "# columns = np.array(df.columns)\n",
    "# df_small = df[columns]\n",
    "# df_corr = df_small.corr()\n",
    "# plt.figure(figsize=(50, 50))\n",
    "# sns.heatmap(df_corr, annot=True, fmt=\".2f\", cmap=\"Blues\")"
   ]
  },
  {
   "cell_type": "code",
   "execution_count": 17,
   "metadata": {},
   "outputs": [],
   "source": [
    "rf = RandomForestClassifier(n_estimators=100, max_depth=50, random_state = 10)\n",
    "lgbm = LGBMClassifier(n_estimators=100, verbosity=0)\n",
    "cat = CatBoostClassifier(iterations=10, depth=2, learning_rate=1)\n",
    "et = ExtraTreesClassifier(n_estimators=100, random_state = 10)\n"
   ]
  },
  {
   "cell_type": "code",
   "execution_count": 18,
   "metadata": {},
   "outputs": [
    {
     "name": "stdout",
     "output_type": "stream",
     "text": [
      "48\n"
     ]
    }
   ],
   "source": [
    "colCnt = data.shape[1]\n",
    "print(colCnt)\n",
    "X = data.iloc[:, :colCnt-1]\n",
    "y = data.iloc[:, colCnt-1:]\n",
    "# # features/target, train/test dataset 분리\n",
    "X_train, X_test, y_train, y_test = train_test_split(X, y, test_size = 0.2, random_state = 42) # 학습데이터와 평가데이터의 비율을 8:2 로 분할|\n",
    "y_train = y_train.values.ravel()"
   ]
  },
  {
   "cell_type": "code",
   "execution_count": 55,
   "metadata": {},
   "outputs": [
    {
     "name": "stdout",
     "output_type": "stream",
     "text": [
      "RandomForest : 74.93 %\n",
      "RandomForest f1 : 74.57 %\n",
      "tn: 1007  fp: 318  fn: 343  tp: 969\n",
      "lightGBM : 78.46 %\n",
      "lightGBM f1 : 78.4 %\n",
      "tn: 1038  fp: 287  fn: 281  tp: 1031\n",
      "0:\tlearn: 0.6553607\ttotal: 4.53ms\tremaining: 40.7ms\n",
      "1:\tlearn: 0.6229206\ttotal: 12.9ms\tremaining: 51.7ms\n",
      "2:\tlearn: 0.6062569\ttotal: 17.1ms\tremaining: 39.9ms\n",
      "3:\tlearn: 0.5967347\ttotal: 21.8ms\tremaining: 32.7ms\n",
      "4:\tlearn: 0.5905871\ttotal: 28.4ms\tremaining: 28.4ms\n",
      "5:\tlearn: 0.5830582\ttotal: 34.6ms\tremaining: 23.1ms\n",
      "6:\tlearn: 0.5753948\ttotal: 39.1ms\tremaining: 16.7ms\n",
      "7:\tlearn: 0.5717545\ttotal: 44.6ms\tremaining: 11.1ms\n",
      "8:\tlearn: 0.5631357\ttotal: 49.3ms\tremaining: 5.47ms\n",
      "9:\tlearn: 0.5583128\ttotal: 53.3ms\tremaining: 0us\n",
      "CatBoost : 69.28 %\n",
      "CatBoost f1 : 69.08 %\n",
      "tn: 922  fp: 403  fn: 407  tp: 905\n",
      "ExtraTrees : 77.66 %\n",
      "ExtraTrees f1 : 77.54 %\n",
      "tn: 1031  fp: 294  fn: 295  tp: 1017\n"
     ]
    }
   ],
   "source": [
    "rf.fit(X_train, y_train)\n",
    "rf_pre = rf.predict(X_test)\n",
    "tn, fp, fn, tp = confusion_matrix(y_test, rf_pre).ravel()\n",
    "print(\"RandomForest :\", round(accuracy_score(y_test, rf_pre)*100, 2), \"%\")\n",
    "print(\"RandomForest f1 :\", round(f1_score(y_test, rf_pre)*100, 2), \"%\")\n",
    "print('tn:', tn, ' fp:', fp, ' fn:', fn, ' tp:', tp)\n",
    "lgbm.fit(X_train, y_train)\n",
    "lgbm_pre = lgbm.predict(X_test)\n",
    "tn, fp, fn, tp = confusion_matrix(y_test, lgbm_pre).ravel()\n",
    "print(\"lightGBM :\", round(accuracy_score(y_test, lgbm_pre)*100, 2), \"%\")\n",
    "print(\"lightGBM f1 :\", round(f1_score(y_test, lgbm_pre)*100, 2), \"%\")\n",
    "print('tn:', tn, ' fp:', fp, ' fn:', fn, ' tp:', tp)\n",
    "cat.fit(X_train, y_train)\n",
    "cat_pre = cat.predict(X_test)\n",
    "tn, fp, fn, tp = confusion_matrix(y_test, cat_pre).ravel()\n",
    "print(\"CatBoost :\", round(accuracy_score(y_test, cat_pre)*100, 2), \"%\")\n",
    "print(\"CatBoost f1 :\", round(f1_score(y_test, cat_pre)*100, 2), \"%\")\n",
    "print('tn:', tn, ' fp:', fp, ' fn:', fn, ' tp:', tp)\n",
    "et = ExtraTreesClassifier(n_estimators=100, random_state = 10)\n",
    "et.fit(X_train, y_train)\n",
    "et_pre = et.predict(X_test)\n",
    "tn, fp, fn, tp = confusion_matrix(y_test, et_pre).ravel()\n",
    "print(\"ExtraTrees :\", round(accuracy_score(y_test, et_pre)*100, 2), \"%\")\n",
    "print(\"ExtraTrees f1 :\", round(f1_score(y_test, et_pre)*100, 2), \"%\")\n",
    "print('tn:', tn, ' fp:', fp, ' fn:', fn, ' tp:', tp)"
   ]
  },
  {
   "cell_type": "code",
   "execution_count": null,
   "metadata": {},
   "outputs": [],
   "source": []
  },
  {
   "cell_type": "code",
   "execution_count": 25,
   "metadata": {},
   "outputs": [
    {
     "name": "stdout",
     "output_type": "stream",
     "text": [
      "accuracy_score :  0.7919666540356195\n",
      "f1_score :  0.7890895121014215\n",
      "tn: 1063  fp: 269  fn: 280  tp: 1027\n",
      "\n",
      "accuracy_score :  0.7999242137173171\n",
      "f1_score :  0.8026905829596412\n",
      "tn: 1037  fp: 275  fn: 253  tp: 1074\n",
      "\n",
      "accuracy_score :  0.8013646702047005\n",
      "f1_score :  0.8038922155688623\n",
      "tn: 1040  fp: 244  fn: 280  tp: 1074\n",
      "\n",
      "accuracy_score :  0.8021228203184231\n",
      "f1_score :  0.8053691275167785\n",
      "tn: 1036  fp: 276  fn: 246  tp: 1080\n",
      "\n",
      "accuracy_score :  0.7971948445792267\n",
      "f1_score :  0.7977315689981095\n",
      "tn: 1048  fp: 308  fn: 227  tp: 1055\n",
      "\n",
      "평균 평가 점수: 0.7985146405710574\n"
     ]
    }
   ],
   "source": [
    "column_names = ['Diff_FirstBLOOD', 'Diff_FirstDRAGON', 'Diff_FirstHERALD',\n",
    "       'Diff_Firsttower', 'dragonType', 'invadeKill', 'invadeDeath',\n",
    "       'controlWARDPlaced', 'Kill_top', 'Kill_jgl', 'Kill_mid', 'Kill_ad',\n",
    "       'Kill_sup', 'Death_top', 'Death_jgl', 'Death_mid', 'Death_ad',\n",
    "       'Death_sup', 'Assist_top', 'Assist_jgl', 'Assist_mid', 'Assist_ad',\n",
    "       'Assist_sup', 'LV_top', 'LV_jgl', 'LV_mid', 'LV_ad', 'LV_sup', 'CS_top',\n",
    "       'CS_jgl', 'CS_mid', 'CS_ad', 'CS_sup', 'jglCS_top', 'jglCS_jgl',\n",
    "       'jglCS_mid', 'jglCS_ad', 'jglCS_sup', 'GOLD_top', 'GOLD_jgl',\n",
    "       'GOLD_mid', 'GOLD_ad', 'GOLD_sup', 'WARDkill', 'Inhibitor', 'TOWERkill',\n",
    "       'WARDplaced']\n",
    "model = lgbm\n",
    "kf = KFold(n_splits=5, shuffle=True, random_state=42)\n",
    "for train_index, test_index in kf.split(X):\n",
    "    X_train, X_test = data.iloc[train_index][column_names], data.iloc[test_index][column_names]\n",
    "    y_train, y_test = data.iloc[train_index]['result'], data.iloc[test_index]['result']\n",
    "    model.fit(X_train, y_train)\n",
    "    rf_pre = model.predict(X_test)\n",
    "\n",
    "    # score = accuracy_score(y_test, rf_pre)\n",
    "    print('accuracy_score : ', accuracy_score(y_test, rf_pre))\n",
    "    print('f1_score : ', f1_score(y_test, rf_pre))\n",
    "    tn, fp, fn, tp = confusion_matrix(y_test, rf_pre).ravel()\n",
    "    print('tn:', tn, ' fp:', fp, ' fn:', fn, ' tp:', tp)\n",
    "    print()\n",
    "    \n",
    "\n",
    "scores = cross_val_score(model, data[column_names], data['result'], cv=kf)\n",
    "mean_score = np.mean(scores)\n",
    "print(f'평균 평가 점수: {mean_score}')"
   ]
  },
  {
   "cell_type": "code",
   "execution_count": 74,
   "metadata": {},
   "outputs": [
    {
     "data": {
      "text/plain": [
       "array([ 1,  1,  1, ..., -1, -1, -1], dtype=int64)"
      ]
     },
     "execution_count": 74,
     "metadata": {},
     "output_type": "execute_result"
    }
   ],
   "source": [
    "rf_pre"
   ]
  },
  {
   "cell_type": "code",
   "execution_count": 69,
   "metadata": {},
   "outputs": [
    {
     "data": {
      "text/plain": [
       "0        1\n",
       "8        1\n",
       "14       1\n",
       "17       1\n",
       "19       1\n",
       "        ..\n",
       "13143   -1\n",
       "13153   -1\n",
       "13166   -1\n",
       "13180   -1\n",
       "13181   -1\n",
       "Name: result, Length: 2637, dtype: int64"
      ]
     },
     "execution_count": 69,
     "metadata": {},
     "output_type": "execute_result"
    }
   ],
   "source": [
    "y_test"
   ]
  }
 ],
 "metadata": {
  "kernelspec": {
   "display_name": "Python 3",
   "language": "python",
   "name": "python3"
  },
  "language_info": {
   "codemirror_mode": {
    "name": "ipython",
    "version": 3
   },
   "file_extension": ".py",
   "mimetype": "text/x-python",
   "name": "python",
   "nbconvert_exporter": "python",
   "pygments_lexer": "ipython3",
   "version": "3.10.4"
  }
 },
 "nbformat": 4,
 "nbformat_minor": 2
}
